{
 "cells": [
  {
   "cell_type": "code",
   "execution_count": 17,
   "metadata": {},
   "outputs": [],
   "source": [
    "import pandas as pd\n",
    "\n",
    "import matplotlib.pyplot as plt\n",
    "import numpy as np\n",
    "from sklearn.linear_model import LinearRegression\n",
    "from sklearn.model_selection import train_test_split \n",
    "from sklearn.metrics import mean_squared_error"
   ]
  },
  {
   "cell_type": "code",
   "execution_count": 18,
   "metadata": {},
   "outputs": [
    {
     "name": "stdout",
     "output_type": "stream",
     "text": [
      "                 state            district                         market  \\\n",
      "0       Andhra Pradesh             Kurnool                        Kurnool   \n",
      "1       Andhra Pradesh             Kurnool                        Kurnool   \n",
      "2       Andhra Pradesh             Kurnool                        Kurnool   \n",
      "3       Andhra Pradesh             Kurnool                        Kurnool   \n",
      "4       Andhra Pradesh             Kurnool                        Kurnool   \n",
      "...                ...                 ...                            ...   \n",
      "107290     West Bengal  Sounth 24 Parganas  Diamond Harbour(South 24-pgs)   \n",
      "107291     West Bengal  Sounth 24 Parganas  Diamond Harbour(South 24-pgs)   \n",
      "107292     West Bengal  Sounth 24 Parganas  Diamond Harbour(South 24-pgs)   \n",
      "107293     West Bengal  Sounth 24 Parganas  Diamond Harbour(South 24-pgs)   \n",
      "107294     West Bengal  Sounth 24 Parganas  Diamond Harbour(South 24-pgs)   \n",
      "\n",
      "       commodity variety arrival_date  min_price  max_price  modal_price  \n",
      "0          Onion   Local   03/01/2020       1350       4390       3100.0  \n",
      "1          Onion   Local   04/01/2020       1390       4400       3200.0  \n",
      "2          Onion   Local   06/01/2020       1460       5150       4310.0  \n",
      "3          Onion   Local   07/01/2020       2010       5200       4200.0  \n",
      "4          Onion   Local   10/01/2020       1320       4050       3300.0  \n",
      "...          ...     ...          ...        ...        ...          ...  \n",
      "107290     Onion     Red   03/09/2020       2200       2300       2250.0  \n",
      "107291     Onion     Red   04/09/2020       2050       2600       2200.0  \n",
      "107292     Onion     Red   08/09/2020       2700       2875       2800.0  \n",
      "107293     Onion     Red   09/09/2020       2625       2875       2800.0  \n",
      "107294     Onion     Red   10/09/2020       2800       2890       2870.0  \n",
      "\n",
      "[107295 rows x 9 columns]\n"
     ]
    }
   ],
   "source": [
    "#reading the dataset\n",
    "data=pd.read_csv('Onion Prices 2020.csv')\n",
    "print(data)\n",
    "\n"
   ]
  },
  {
   "cell_type": "code",
   "execution_count": 19,
   "metadata": {},
   "outputs": [
    {
     "name": "stdout",
     "output_type": "stream",
     "text": [
      "False\n"
     ]
    }
   ],
   "source": [
    "#checking for any null values\n",
    "print (data.isnull().values.any())"
   ]
  },
  {
   "cell_type": "code",
   "execution_count": 20,
   "metadata": {},
   "outputs": [
    {
     "name": "stdout",
     "output_type": "stream",
     "text": [
      "            state district commodity arrival_date  min_price  max_price  \\\n",
      "0  Andhra Pradesh  Kurnool     Onion   03/01/2020       1350       4390   \n",
      "1  Andhra Pradesh  Kurnool     Onion   04/01/2020       1390       4400   \n",
      "2  Andhra Pradesh  Kurnool     Onion   06/01/2020       1460       5150   \n",
      "3  Andhra Pradesh  Kurnool     Onion   07/01/2020       2010       5200   \n",
      "4  Andhra Pradesh  Kurnool     Onion   10/01/2020       1320       4050   \n",
      "\n",
      "   modal_price  \n",
      "0       3100.0  \n",
      "1       3200.0  \n",
      "2       4310.0  \n",
      "3       4200.0  \n",
      "4       3300.0  \n"
     ]
    }
   ],
   "source": [
    "#dropping the columns \n",
    "\n",
    "d1=data.drop(['variety','market'],axis=1)\n",
    "print(d1.head(5))\n",
    "\n"
   ]
  },
  {
   "cell_type": "code",
   "execution_count": 21,
   "metadata": {},
   "outputs": [
    {
     "name": "stdout",
     "output_type": "stream",
     "text": [
      "\n",
      "New DataFrame:\n",
      "                 state            district commodity arrival_date  min_price  \\\n",
      "0       Andhra Pradesh             Kurnool     Onion   03/01/2020       1350   \n",
      "1       Andhra Pradesh             Kurnool     Onion   04/01/2020       1390   \n",
      "2       Andhra Pradesh             Kurnool     Onion   06/01/2020       1460   \n",
      "3       Andhra Pradesh             Kurnool     Onion   07/01/2020       2010   \n",
      "4       Andhra Pradesh             Kurnool     Onion   10/01/2020       1320   \n",
      "...                ...                 ...       ...          ...        ...   \n",
      "107290     West Bengal  Sounth 24 Parganas     Onion   03/09/2020       2200   \n",
      "107291     West Bengal  Sounth 24 Parganas     Onion   04/09/2020       2050   \n",
      "107292     West Bengal  Sounth 24 Parganas     Onion   08/09/2020       2700   \n",
      "107293     West Bengal  Sounth 24 Parganas     Onion   09/09/2020       2625   \n",
      "107294     West Bengal  Sounth 24 Parganas     Onion   10/09/2020       2800   \n",
      "\n",
      "        max_price  modal_price day month  year  \n",
      "0            4390       3100.0  03    01  2020  \n",
      "1            4400       3200.0  04    01  2020  \n",
      "2            5150       4310.0  06    01  2020  \n",
      "3            5200       4200.0  07    01  2020  \n",
      "4            4050       3300.0  10    01  2020  \n",
      "...           ...          ...  ..   ...   ...  \n",
      "107290       2300       2250.0  03    09  2020  \n",
      "107291       2600       2200.0  04    09  2020  \n",
      "107292       2875       2800.0  08    09  2020  \n",
      "107293       2875       2800.0  09    09  2020  \n",
      "107294       2890       2870.0  10    09  2020  \n",
      "\n",
      "[107295 rows x 10 columns]\n"
     ]
    }
   ],
   "source": [
    "#spliting the date in day month and year in separte columns\n",
    "d1[[\"day\", \"month\", \"year\"]] = d1[\"arrival_date\"].str.split(\"/\", expand = True)\n",
    "print(\"\\nNew DataFrame:\")\n",
    "print(d1)"
   ]
  },
  {
   "cell_type": "code",
   "execution_count": 22,
   "metadata": {},
   "outputs": [
    {
     "name": "stdout",
     "output_type": "stream",
     "text": [
      "            state district commodity arrival_date  min_price  max_price  \\\n",
      "0  Andhra Pradesh  Kurnool     Onion   03/01/2020       1350       4390   \n",
      "1  Andhra Pradesh  Kurnool     Onion   04/01/2020       1390       4400   \n",
      "2  Andhra Pradesh  Kurnool     Onion   06/01/2020       1460       5150   \n",
      "3  Andhra Pradesh  Kurnool     Onion   07/01/2020       2010       5200   \n",
      "4  Andhra Pradesh  Kurnool     Onion   10/01/2020       1320       4050   \n",
      "\n",
      "   modal_price day month  year  \n",
      "0       3100.0  03    01  2020  \n",
      "1       3200.0  04    01  2020  \n",
      "2       4310.0  06    01  2020  \n",
      "3       4200.0  07    01  2020  \n",
      "4       3300.0  10    01  2020  \n"
     ]
    }
   ],
   "source": [
    "print(d1.head(5))"
   ]
  },
  {
   "cell_type": "code",
   "execution_count": 23,
   "metadata": {},
   "outputs": [],
   "source": [
    "d2=d1.copy()"
   ]
  },
  {
   "cell_type": "code",
   "execution_count": 24,
   "metadata": {},
   "outputs": [
    {
     "name": "stdout",
     "output_type": "stream",
     "text": [
      "            state district commodity arrival_date  min_price  max_price  \\\n",
      "0  Andhra Pradesh  Kurnool     Onion   03/01/2020       1350       4390   \n",
      "1  Andhra Pradesh  Kurnool     Onion   04/01/2020       1390       4400   \n",
      "2  Andhra Pradesh  Kurnool     Onion   06/01/2020       1460       5150   \n",
      "3  Andhra Pradesh  Kurnool     Onion   07/01/2020       2010       5200   \n",
      "4  Andhra Pradesh  Kurnool     Onion   10/01/2020       1320       4050   \n",
      "\n",
      "   modal_price day month  year  \n",
      "0       3100.0  03    01  2020  \n",
      "1       3200.0  04    01  2020  \n",
      "2       4310.0  06    01  2020  \n",
      "3       4200.0  07    01  2020  \n",
      "4       3300.0  10    01  2020  \n"
     ]
    }
   ],
   "source": [
    "print(d2.head(5))"
   ]
  },
  {
   "cell_type": "code",
   "execution_count": 25,
   "metadata": {},
   "outputs": [
    {
     "name": "stdout",
     "output_type": "stream",
     "text": [
      "            state district commodity  min_price  max_price  modal_price day  \\\n",
      "0  Andhra Pradesh  Kurnool     Onion       1350       4390       3100.0  03   \n",
      "1  Andhra Pradesh  Kurnool     Onion       1390       4400       3200.0  04   \n",
      "2  Andhra Pradesh  Kurnool     Onion       1460       5150       4310.0  06   \n",
      "3  Andhra Pradesh  Kurnool     Onion       2010       5200       4200.0  07   \n",
      "4  Andhra Pradesh  Kurnool     Onion       1320       4050       3300.0  10   \n",
      "\n",
      "  month  year  \n",
      "0    01  2020  \n",
      "1    01  2020  \n",
      "2    01  2020  \n",
      "3    01  2020  \n",
      "4    01  2020  \n"
     ]
    }
   ],
   "source": [
    "#droping the \n",
    "d3=d2.drop('arrival_date',axis=1)\n",
    "print(d3.head(5))"
   ]
  },
  {
   "cell_type": "code",
   "execution_count": 31,
   "metadata": {},
   "outputs": [
    {
     "name": "stdout",
     "output_type": "stream",
     "text": [
      "['Andhra Pradesh' 'Chattisgarh' 'Goa' 'Gujarat' 'Haryana'\n",
      " 'Himachal Pradesh' 'Jammu and Kashmir' 'Jharkhand' 'Karnataka' 'Kerala'\n",
      " 'Madhya Pradesh' 'Maharashtra' 'Nagaland' 'NCT of Delhi' 'Odisha'\n",
      " 'Punjab' 'Rajasthan' 'Telangana' 'Tripura' 'Uttar Pradesh' 'Uttrakhand'\n",
      " 'West Bengal']\n",
      "['Kurnool' 'Bilaspur' 'Durg' 'Raigarh' 'Rajnandgaon' 'North Goa'\n",
      " 'Ahmedabad' 'Amreli' 'Anand' 'Banaskanth' 'Bharuch' 'Bhavnagar' 'Dahod'\n",
      " 'Jamnagar' 'Junagarh' 'Kheda' 'Mehsana' 'Navsari' 'Panchmahals'\n",
      " 'Porbandar' 'Rajkot' 'Surat' 'Surendranagar' 'Vadodara(Baroda)' 'Ambala'\n",
      " 'Bhiwani' 'Faridabad' 'Fatehabad' 'Gurgaon' 'Hissar' 'Jhajar' 'Jind'\n",
      " 'Kaithal' 'Karnal' 'Kurukshetra' 'Mahendragarh-Narnaul' 'Mewat' 'Palwal'\n",
      " 'Panchkula' 'Panipat' 'Rewari' 'Rohtak' 'Sirsa' 'Sonipat' 'Yamuna Nagar'\n",
      " 'Chamba' 'Hamirpur' 'Kangra' 'Kullu' 'Mandi' 'Shimla' 'Sirmore' 'Solan'\n",
      " 'Una' 'Anantnag' 'Jammu' 'Kathua' 'Rajouri' 'Srinagar' 'Udhampur'\n",
      " 'Lohardaga' 'Ranchi' 'Bagalkot' 'Bangalore' 'Belgaum' 'Bellary' 'Bidar'\n",
      " 'Bijapur' 'Chamrajnagar' 'Chikmagalur' 'Davangere' 'Dharwad' 'Gadag'\n",
      " 'Hassan' 'Haveri' 'Kolar' 'Mandya' 'Mangalore(Dakshin Kannad)' 'Mysore'\n",
      " 'Raichur' 'Shimoga' 'Tumkur' 'Udupi' 'Alappuzha' 'Ernakulam' 'Idukki'\n",
      " 'Kannur' 'Kasargod' 'Kollam' 'Kottayam' 'Kozhikode(Calicut)' 'Malappuram'\n",
      " 'Palakad' 'Thirssur' 'Thiruvananthapuram' 'Alirajpur' 'Anupur' 'Badwani'\n",
      " 'Bhopal' 'Burhanpur' 'Chhatarpur' 'Chhindwara' 'Damoh' 'Dewas' 'Dhar'\n",
      " 'Guna' 'Gwalior' 'Harda' 'Hoshangabad' 'Indore' 'Jabalpur' 'Jhabua'\n",
      " 'Khandwa' 'Mandsaur' 'Morena' 'Narsinghpur' 'Neemuch' 'Raisen' 'Rajgarh'\n",
      " 'Ratlam' 'Sagar' 'Satna' 'Sehore' 'Shajapur' 'Sheopur' 'Shivpuri'\n",
      " 'Ujjain' 'Ahmednagar' 'Amarawati' 'Aurangabad' 'Beed' 'Buldhana'\n",
      " 'Chandrapur' 'Dhule' 'Jalgaon' 'Kolhapur' 'Mumbai' 'Nagpur' 'Nandurbar'\n",
      " 'Nashik' 'Osmanabad' 'Pune' 'Raigad' 'Ratnagiri' 'Sangli' 'Satara'\n",
      " 'Sholapur' 'Thane' 'Mokokchung' 'Delhi' 'Angul' 'Balasore' 'Bargarh'\n",
      " 'Bhadrak' 'Bolangir' 'Boudh' 'Cuttack' 'Dhenkanal' 'Ganjam' 'Jajpur'\n",
      " 'Jharsuguda' 'Kalahandi' 'Kendrapara' 'Keonjhar' 'Khurda' 'Malkangiri'\n",
      " 'Mayurbhanja' 'Nuapada' 'Rayagada' 'Sonepur' 'Sundergarh' 'Amritsar'\n",
      " 'Barnala' 'Bhatinda' 'Faridkot' 'Fatehgarh' 'Fazilka' 'Ferozpur'\n",
      " 'Gurdaspur' 'Hoshiarpur' 'Jalandhar' 'kapurthala' 'Ludhiana' 'Mansa'\n",
      " 'Moga' 'Mohali' 'Muktsar' 'Nawanshahr' 'Pathankot' 'Patiala'\n",
      " 'Ropar (Rupnagar)' 'Sangrur' 'Tarntaran' 'Ajmer' 'Alwar' 'Barmer'\n",
      " 'Bharatpur' 'Bhilwara' 'Bikaner' 'Chittorgarh' 'Churu' 'Ganganagar'\n",
      " 'Hanumangarh' 'Jaipur' 'Jaisalmer' 'Jalore' 'Jhunjunu' 'Jodhpur' 'Kota'\n",
      " 'Nagaur' 'Pali' 'Rajasamand' 'Sikar' 'Sirohi' 'Tonk' 'Udaipur'\n",
      " 'Hyderabad' 'Medak' 'Dhalai' 'Khowai' 'North Tripura' 'Sepahijala'\n",
      " 'South District' 'Unokoti' 'Agra' 'Aligarh' 'Allahabad' 'Ambedkarnagar'\n",
      " 'Auraiya' 'Azamgarh' 'Badaun' 'Baghpat' 'Bahraich' 'Ballia' 'Balrampur'\n",
      " 'Banda' 'Barabanki' 'Bareilly' 'Basti' 'Bhadohi(Sant Ravi Nagar)'\n",
      " 'Bijnor' 'Bulandshahar' 'Chandauli' 'Chitrakut' 'Deoria' 'Etah' 'Etawah'\n",
      " 'Faizabad' 'Farukhabad' 'Fatehpur' 'Firozabad' 'Gautam Budh Nagar'\n",
      " 'Ghaziabad' 'Ghazipur' 'Gonda' 'Gorakhpur' 'Hardoi' 'Hathras'\n",
      " 'Jalaun (Orai)' 'Jaunpur' 'Jhansi' 'Jyotiba Phule Nagar' 'Kannuj'\n",
      " 'Kanpur' 'Kaushambi' 'Khiri (Lakhimpur)' 'Lakhimpur' 'Lalitpur' 'Lucknow'\n",
      " 'Maharajganj' 'Mahoba' 'Mainpuri' 'Mathura' 'Mau(Maunathbhanjan)'\n",
      " 'Meerut' 'Mirzapur' 'Muradabad' 'Muzaffarnagar' 'Padrauna(Kusinagar)'\n",
      " 'Pillibhit' 'Pratapgarh' 'Raebarelli' 'Rampur' 'Saharanpur'\n",
      " 'Sant Kabir Nagar' 'Shahjahanpur' 'Siddharth Nagar' 'Sitapur' 'Sonbhadra'\n",
      " 'Sultanpur' 'Unnao' 'Varanasi' 'Champawat' 'Dehradoon' 'Garhwal (Pauri)'\n",
      " 'Haridwar' 'Nanital' 'UdhamSinghNagar' 'Bankura' 'Birbhum' 'Burdwan'\n",
      " 'Coochbehar' 'Darjeeling' 'Hooghly' 'Howrah' 'Jalpaiguri' 'Kolkata'\n",
      " 'Malda' 'Medinipur(E)' 'Medinipur(W)' 'Murshidabad' 'Nadia'\n",
      " 'North 24 Parganas' 'Puruliya' 'Sounth 24 Parganas']\n"
     ]
    }
   ],
   "source": [
    "\n",
    "print(d3['state'].unique())\n",
    "print(d3['district'].unique())\n",
    "\n"
   ]
  },
  {
   "cell_type": "code",
   "execution_count": 34,
   "metadata": {},
   "outputs": [
    {
     "data": {
      "text/plain": [
       "Uttar Pradesh        37263\n",
       "Punjab               10783\n",
       "Kerala                8834\n",
       "West Bengal           7235\n",
       "Odisha                6938\n",
       "Haryana               6637\n",
       "Rajasthan             4974\n",
       "Maharashtra           4788\n",
       "Madhya Pradesh        4333\n",
       "Karnataka             3775\n",
       "Gujarat               2940\n",
       "Himachal Pradesh      2486\n",
       "Uttrakhand            1731\n",
       "Tripura               1626\n",
       "Jammu and Kashmir      831\n",
       "Chattisgarh            733\n",
       "Telangana              507\n",
       "NCT of Delhi           371\n",
       "Jharkhand              302\n",
       "Andhra Pradesh         127\n",
       "Goa                     74\n",
       "Nagaland                 7\n",
       "Name: state, dtype: int64"
      ]
     },
     "execution_count": 34,
     "metadata": {},
     "output_type": "execute_result"
    }
   ],
   "source": [
    "\n",
    "data['district'].value_counts()\n",
    "data['state'].value_counts()"
   ]
  },
  {
   "cell_type": "code",
   "execution_count": 43,
   "metadata": {},
   "outputs": [
    {
     "name": "stdout",
     "output_type": "stream",
     "text": [
      "       commodity  min_price  max_price  modal_price day month  year  \\\n",
      "107290     Onion       2200       2300       2250.0  03    09  2020   \n",
      "107291     Onion       2050       2600       2200.0  04    09  2020   \n",
      "107292     Onion       2700       2875       2800.0  08    09  2020   \n",
      "107293     Onion       2625       2875       2800.0  09    09  2020   \n",
      "107294     Onion       2800       2890       2870.0  10    09  2020   \n",
      "\n",
      "        state_Andhra Pradesh  state_Chattisgarh  state_Goa  ...  \\\n",
      "107290                     0                  0          0  ...   \n",
      "107291                     0                  0          0  ...   \n",
      "107292                     0                  0          0  ...   \n",
      "107293                     0                  0          0  ...   \n",
      "107294                     0                  0          0  ...   \n",
      "\n",
      "        district_Udhampur  district_Udupi  district_Ujjain  district_Una  \\\n",
      "107290                  0               0                0             0   \n",
      "107291                  0               0                0             0   \n",
      "107292                  0               0                0             0   \n",
      "107293                  0               0                0             0   \n",
      "107294                  0               0                0             0   \n",
      "\n",
      "        district_Unnao  district_Unokoti  district_Vadodara(Baroda)  \\\n",
      "107290               0                 0                          0   \n",
      "107291               0                 0                          0   \n",
      "107292               0                 0                          0   \n",
      "107293               0                 0                          0   \n",
      "107294               0                 0                          0   \n",
      "\n",
      "        district_Varanasi  district_Yamuna Nagar  district_kapurthala  \n",
      "107290                  0                      0                    0  \n",
      "107291                  0                      0                    0  \n",
      "107292                  0                      0                    0  \n",
      "107293                  0                      0                    0  \n",
      "107294                  0                      0                    0  \n",
      "\n",
      "[5 rows x 344 columns]\n"
     ]
    }
   ],
   "source": [
    "\n",
    "one_hot_encoded_data = pd.get_dummies(d3, columns = ['state', 'district'])\n",
    "print(one_hot_encoded_data)"
   ]
  },
  {
   "cell_type": "code",
   "execution_count": 44,
   "metadata": {},
   "outputs": [
    {
     "data": {
      "text/plain": [
       "<AxesSubplot:xlabel='district'>"
      ]
     },
     "execution_count": 44,
     "metadata": {},
     "output_type": "execute_result"
    },
    {
     "data": {
      "image/png": "[encoded data removed]",
      "text/plain": [
       "<Figure size 432x288 with 1 Axes>"
      ]
     },
     "metadata": {
      "needs_background": "light"
     },
     "output_type": "display_data"
    }
   ],
   "source": [
    "d3.plot(\"district\", \"modal_price\")"
   ]
  },
  {
   "cell_type": "code",
   "execution_count": 45,
   "metadata": {},
   "outputs": [
    {
     "data": {
      "text/plain": [
       "<AxesSubplot:xlabel='district', ylabel='modal_price'>"
      ]
     },
     "execution_count": 45,
     "metadata": {},
     "output_type": "execute_result"
    },
    {
     "data": {
      "image/png": "[encoded data removed]",
      "text/plain": [
       "<Figure size 432x288 with 1 Axes>"
      ]
     },
     "metadata": {
      "needs_background": "light"
     },
     "output_type": "display_data"
    }
   ],
   "source": [
    "d3.plot.scatter(\"district\", \"modal_price\")"
   ]
  }
 ],
 "metadata": {
  "interpreter": {
   "hash": "c5e48f84046969b800ff52f6d80523bcd1ca3fb1a99f1449e4197bf6c73dc096"
  },
  "kernelspec": {
   "display_name": "Python 3",
   "language": "python",
   "name": "python3"
  },
  "language_info": {
   "codemirror_mode": {
    "name": "ipython",
    "version": 3
   },
   "file_extension": ".py",
   "mimetype": "text/x-python",
   "name": "python",
   "nbconvert_exporter": "python",
   "pygments_lexer": "ipython3",
   "version": "3.8.8"
  }
 },
 "nbformat": 4,
 "nbformat_minor": 2
}
