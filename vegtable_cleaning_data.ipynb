{
 "cells": [
  {
   "cell_type": "code",
   "execution_count": 1,
   "metadata": {},
   "outputs": [],
   "source": [
    "import pandas as pd\n",
    "\n",
    "import matplotlib.pyplot as plt"
   ]
  },
  {
   "cell_type": "code",
   "execution_count": 2,
   "metadata": {},
   "outputs": [
    {
     "name": "stdout",
     "output_type": "stream",
     "text": [
      "                 state            district                         market  \\\n",
      "0       Andhra Pradesh             Kurnool                        Kurnool   \n",
      "1       Andhra Pradesh             Kurnool                        Kurnool   \n",
      "2       Andhra Pradesh             Kurnool                        Kurnool   \n",
      "3       Andhra Pradesh             Kurnool                        Kurnool   \n",
      "4       Andhra Pradesh             Kurnool                        Kurnool   \n",
      "...                ...                 ...                            ...   \n",
      "107290     West Bengal  Sounth 24 Parganas  Diamond Harbour(South 24-pgs)   \n",
      "107291     West Bengal  Sounth 24 Parganas  Diamond Harbour(South 24-pgs)   \n",
      "107292     West Bengal  Sounth 24 Parganas  Diamond Harbour(South 24-pgs)   \n",
      "107293     West Bengal  Sounth 24 Parganas  Diamond Harbour(South 24-pgs)   \n",
      "107294     West Bengal  Sounth 24 Parganas  Diamond Harbour(South 24-pgs)   \n",
      "\n",
      "       commodity variety arrival_date  min_price  max_price  modal_price  \n",
      "0          Onion   Local   03/01/2020       1350       4390       3100.0  \n",
      "1          Onion   Local   04/01/2020       1390       4400       3200.0  \n",
      "2          Onion   Local   06/01/2020       1460       5150       4310.0  \n",
      "3          Onion   Local   07/01/2020       2010       5200       4200.0  \n",
      "4          Onion   Local   10/01/2020       1320       4050       3300.0  \n",
      "...          ...     ...          ...        ...        ...          ...  \n",
      "107290     Onion     Red   03/09/2020       2200       2300       2250.0  \n",
      "107291     Onion     Red   04/09/2020       2050       2600       2200.0  \n",
      "107292     Onion     Red   08/09/2020       2700       2875       2800.0  \n",
      "107293     Onion     Red   09/09/2020       2625       2875       2800.0  \n",
      "107294     Onion     Red   10/09/2020       2800       2890       2870.0  \n",
      "\n",
      "[107295 rows x 9 columns]\n"
     ]
    }
   ],
   "source": [
    "#reading the dataset\n",
    "data=pd.read_csv('Onion Prices 2020.csv')\n",
    "print(data)\n",
    "\n"
   ]
  },
  {
   "cell_type": "code",
   "execution_count": 3,
   "metadata": {},
   "outputs": [
    {
     "name": "stdout",
     "output_type": "stream",
     "text": [
      "False\n"
     ]
    }
   ],
   "source": [
    "#checking for any null values\n",
    "print (data.isnull().values.any())"
   ]
  },
  {
   "cell_type": "code",
   "execution_count": 4,
   "metadata": {},
   "outputs": [
    {
     "name": "stdout",
     "output_type": "stream",
     "text": [
      "            state district commodity arrival_date  min_price  max_price  \\\n",
      "0  Andhra Pradesh  Kurnool     Onion   03/01/2020       1350       4390   \n",
      "1  Andhra Pradesh  Kurnool     Onion   04/01/2020       1390       4400   \n",
      "2  Andhra Pradesh  Kurnool     Onion   06/01/2020       1460       5150   \n",
      "3  Andhra Pradesh  Kurnool     Onion   07/01/2020       2010       5200   \n",
      "4  Andhra Pradesh  Kurnool     Onion   10/01/2020       1320       4050   \n",
      "\n",
      "   modal_price  \n",
      "0       3100.0  \n",
      "1       3200.0  \n",
      "2       4310.0  \n",
      "3       4200.0  \n",
      "4       3300.0  \n"
     ]
    }
   ],
   "source": [
    "#dropping the columns \n",
    "\n",
    "d1=data.drop(['variety','market'],axis=1)\n",
    "print(d1.head(5))\n",
    "\n"
   ]
  },
  {
   "cell_type": "code",
   "execution_count": 5,
   "metadata": {},
   "outputs": [
    {
     "name": "stdout",
     "output_type": "stream",
     "text": [
      "\n",
      "New DataFrame:\n",
      "                 state            district commodity arrival_date  min_price  \\\n",
      "0       Andhra Pradesh             Kurnool     Onion   03/01/2020       1350   \n",
      "1       Andhra Pradesh             Kurnool     Onion   04/01/2020       1390   \n",
      "2       Andhra Pradesh             Kurnool     Onion   06/01/2020       1460   \n",
      "3       Andhra Pradesh             Kurnool     Onion   07/01/2020       2010   \n",
      "4       Andhra Pradesh             Kurnool     Onion   10/01/2020       1320   \n",
      "...                ...                 ...       ...          ...        ...   \n",
      "107290     West Bengal  Sounth 24 Parganas     Onion   03/09/2020       2200   \n",
      "107291     West Bengal  Sounth 24 Parganas     Onion   04/09/2020       2050   \n",
      "107292     West Bengal  Sounth 24 Parganas     Onion   08/09/2020       2700   \n",
      "107293     West Bengal  Sounth 24 Parganas     Onion   09/09/2020       2625   \n",
      "107294     West Bengal  Sounth 24 Parganas     Onion   10/09/2020       2800   \n",
      "\n",
      "        max_price  modal_price day month  year  \n",
      "0            4390       3100.0  03    01  2020  \n",
      "1            4400       3200.0  04    01  2020  \n",
      "2            5150       4310.0  06    01  2020  \n",
      "3            5200       4200.0  07    01  2020  \n",
      "4            4050       3300.0  10    01  2020  \n",
      "...           ...          ...  ..   ...   ...  \n",
      "107290       2300       2250.0  03    09  2020  \n",
      "107291       2600       2200.0  04    09  2020  \n",
      "107292       2875       2800.0  08    09  2020  \n",
      "107293       2875       2800.0  09    09  2020  \n",
      "107294       2890       2870.0  10    09  2020  \n",
      "\n",
      "[107295 rows x 10 columns]\n"
     ]
    }
   ],
   "source": [
    "#spliting the date in day month and year in separte columns\n",
    "d1[[\"day\", \"month\", \"year\"]] = d1[\"arrival_date\"].str.split(\"/\", expand = True)\n",
    "print(\"\\nNew DataFrame:\")\n",
    "print(d1)"
   ]
  },
  {
   "cell_type": "code",
   "execution_count": 6,
   "metadata": {},
   "outputs": [
    {
     "name": "stdout",
     "output_type": "stream",
     "text": [
      "            state district commodity arrival_date  min_price  max_price  \\\n",
      "0  Andhra Pradesh  Kurnool     Onion   03/01/2020       1350       4390   \n",
      "1  Andhra Pradesh  Kurnool     Onion   04/01/2020       1390       4400   \n",
      "2  Andhra Pradesh  Kurnool     Onion   06/01/2020       1460       5150   \n",
      "3  Andhra Pradesh  Kurnool     Onion   07/01/2020       2010       5200   \n",
      "4  Andhra Pradesh  Kurnool     Onion   10/01/2020       1320       4050   \n",
      "\n",
      "   modal_price day month  year  \n",
      "0       3100.0  03    01  2020  \n",
      "1       3200.0  04    01  2020  \n",
      "2       4310.0  06    01  2020  \n",
      "3       4200.0  07    01  2020  \n",
      "4       3300.0  10    01  2020  \n"
     ]
    }
   ],
   "source": [
    "print(d1.head(5))"
   ]
  },
  {
   "cell_type": "code",
   "execution_count": 7,
   "metadata": {},
   "outputs": [],
   "source": [
    "d2=d1.copy()"
   ]
  },
  {
   "cell_type": "code",
   "execution_count": 8,
   "metadata": {},
   "outputs": [
    {
     "name": "stdout",
     "output_type": "stream",
     "text": [
      "            state district commodity arrival_date  min_price  max_price  \\\n",
      "0  Andhra Pradesh  Kurnool     Onion   03/01/2020       1350       4390   \n",
      "1  Andhra Pradesh  Kurnool     Onion   04/01/2020       1390       4400   \n",
      "2  Andhra Pradesh  Kurnool     Onion   06/01/2020       1460       5150   \n",
      "3  Andhra Pradesh  Kurnool     Onion   07/01/2020       2010       5200   \n",
      "4  Andhra Pradesh  Kurnool     Onion   10/01/2020       1320       4050   \n",
      "\n",
      "   modal_price day month  year  \n",
      "0       3100.0  03    01  2020  \n",
      "1       3200.0  04    01  2020  \n",
      "2       4310.0  06    01  2020  \n",
      "3       4200.0  07    01  2020  \n",
      "4       3300.0  10    01  2020  \n"
     ]
    }
   ],
   "source": [
    "print(d2.head(5))"
   ]
  },
  {
   "cell_type": "code",
   "execution_count": 9,
   "metadata": {},
   "outputs": [
    {
     "name": "stdout",
     "output_type": "stream",
     "text": [
      "            state district commodity  min_price  max_price  modal_price day  \\\n",
      "0  Andhra Pradesh  Kurnool     Onion       1350       4390       3100.0  03   \n",
      "1  Andhra Pradesh  Kurnool     Onion       1390       4400       3200.0  04   \n",
      "2  Andhra Pradesh  Kurnool     Onion       1460       5150       4310.0  06   \n",
      "3  Andhra Pradesh  Kurnool     Onion       2010       5200       4200.0  07   \n",
      "4  Andhra Pradesh  Kurnool     Onion       1320       4050       3300.0  10   \n",
      "\n",
      "  month  year  \n",
      "0    01  2020  \n",
      "1    01  2020  \n",
      "2    01  2020  \n",
      "3    01  2020  \n",
      "4    01  2020  \n"
     ]
    }
   ],
   "source": [
    "#droping the \n",
    "d3=d2.drop('arrival_date',axis=1)\n",
    "print(d3.head(5))"
   ]
  }
 ],
 "metadata": {
  "interpreter": {
   "hash": "c5e48f84046969b800ff52f6d80523bcd1ca3fb1a99f1449e4197bf6c73dc096"
  },
  "kernelspec": {
   "display_name": "Python 3",
   "language": "python",
   "name": "python3"
  },
  "language_info": {
   "codemirror_mode": {
    "name": "ipython",
    "version": 3
   },
   "file_extension": ".py",
   "mimetype": "text/x-python",
   "name": "python",
   "nbconvert_exporter": "python",
   "pygments_lexer": "ipython3",
   "version": "3.8.8"
  }
 },
 "nbformat": 4,
 "nbformat_minor": 2
}
